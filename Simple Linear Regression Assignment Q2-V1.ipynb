{
 "cells": [
  {
   "cell_type": "markdown",
   "metadata": {},
   "source": [
    "## Simple Linear Regression Assignment Q2"
   ]
  },
  {
   "cell_type": "markdown",
   "metadata": {},
   "source": [
    "#### Q2) Salary_hike -> Build a prediction model for Salary_hike\n",
    "#### Build a simple linear regression model by performing EDA and do necessary transformations and select the best model using R or Python."
   ]
  },
  {
   "cell_type": "code",
   "execution_count": 1,
   "metadata": {
    "ExecuteTime": {
     "end_time": "2021-12-14T06:41:30.582031Z",
     "start_time": "2021-12-14T06:41:28.397175Z"
    }
   },
   "outputs": [],
   "source": [
    "# Import the required libraries\n",
    "import pandas as pd\n",
    "import numpy as np\n",
    "import seaborn as sns\n",
    "import matplotlib.pyplot as plt\n",
    "%matplotlib inline"
   ]
  },
  {
   "cell_type": "markdown",
   "metadata": {},
   "source": [
    "### Import and preview the data"
   ]
  },
  {
   "cell_type": "code",
   "execution_count": 2,
   "metadata": {
    "ExecuteTime": {
     "end_time": "2021-12-14T06:41:30.630013Z",
     "start_time": "2021-12-14T06:41:30.586039Z"
    }
   },
   "outputs": [
    {
     "data": {
      "text/html": [
       "<div>\n",
       "<style scoped>\n",
       "    .dataframe tbody tr th:only-of-type {\n",
       "        vertical-align: middle;\n",
       "    }\n",
       "\n",
       "    .dataframe tbody tr th {\n",
       "        vertical-align: top;\n",
       "    }\n",
       "\n",
       "    .dataframe thead th {\n",
       "        text-align: right;\n",
       "    }\n",
       "</style>\n",
       "<table border=\"1\" class=\"dataframe\">\n",
       "  <thead>\n",
       "    <tr style=\"text-align: right;\">\n",
       "      <th></th>\n",
       "      <th>YearsExperience</th>\n",
       "      <th>Salary</th>\n",
       "    </tr>\n",
       "  </thead>\n",
       "  <tbody>\n",
       "    <tr>\n",
       "      <td>0</td>\n",
       "      <td>1.1</td>\n",
       "      <td>39343.0</td>\n",
       "    </tr>\n",
       "    <tr>\n",
       "      <td>1</td>\n",
       "      <td>1.3</td>\n",
       "      <td>46205.0</td>\n",
       "    </tr>\n",
       "    <tr>\n",
       "      <td>2</td>\n",
       "      <td>1.5</td>\n",
       "      <td>37731.0</td>\n",
       "    </tr>\n",
       "    <tr>\n",
       "      <td>3</td>\n",
       "      <td>2.0</td>\n",
       "      <td>43525.0</td>\n",
       "    </tr>\n",
       "    <tr>\n",
       "      <td>4</td>\n",
       "      <td>2.2</td>\n",
       "      <td>39891.0</td>\n",
       "    </tr>\n",
       "  </tbody>\n",
       "</table>\n",
       "</div>"
      ],
      "text/plain": [
       "   YearsExperience   Salary\n",
       "0              1.1  39343.0\n",
       "1              1.3  46205.0\n",
       "2              1.5  37731.0\n",
       "3              2.0  43525.0\n",
       "4              2.2  39891.0"
      ]
     },
     "execution_count": 2,
     "metadata": {},
     "output_type": "execute_result"
    }
   ],
   "source": [
    "# Import the data set\n",
    "data = pd.read_csv('Salary_Data.csv')\n",
    "data.head()"
   ]
  },
  {
   "cell_type": "code",
   "execution_count": 3,
   "metadata": {
    "ExecuteTime": {
     "end_time": "2021-12-14T06:41:30.819715Z",
     "start_time": "2021-12-14T06:41:30.635008Z"
    }
   },
   "outputs": [
    {
     "data": {
      "text/html": [
       "<div>\n",
       "<style scoped>\n",
       "    .dataframe tbody tr th:only-of-type {\n",
       "        vertical-align: middle;\n",
       "    }\n",
       "\n",
       "    .dataframe tbody tr th {\n",
       "        vertical-align: top;\n",
       "    }\n",
       "\n",
       "    .dataframe thead th {\n",
       "        text-align: right;\n",
       "    }\n",
       "</style>\n",
       "<table border=\"1\" class=\"dataframe\">\n",
       "  <thead>\n",
       "    <tr style=\"text-align: right;\">\n",
       "      <th></th>\n",
       "      <th>YearsExperience</th>\n",
       "      <th>Salary</th>\n",
       "    </tr>\n",
       "  </thead>\n",
       "  <tbody>\n",
       "    <tr>\n",
       "      <td>25</td>\n",
       "      <td>9.0</td>\n",
       "      <td>105582.0</td>\n",
       "    </tr>\n",
       "    <tr>\n",
       "      <td>26</td>\n",
       "      <td>9.5</td>\n",
       "      <td>116969.0</td>\n",
       "    </tr>\n",
       "    <tr>\n",
       "      <td>27</td>\n",
       "      <td>9.6</td>\n",
       "      <td>112635.0</td>\n",
       "    </tr>\n",
       "    <tr>\n",
       "      <td>28</td>\n",
       "      <td>10.3</td>\n",
       "      <td>122391.0</td>\n",
       "    </tr>\n",
       "    <tr>\n",
       "      <td>29</td>\n",
       "      <td>10.5</td>\n",
       "      <td>121872.0</td>\n",
       "    </tr>\n",
       "  </tbody>\n",
       "</table>\n",
       "</div>"
      ],
      "text/plain": [
       "    YearsExperience    Salary\n",
       "25              9.0  105582.0\n",
       "26              9.5  116969.0\n",
       "27              9.6  112635.0\n",
       "28             10.3  122391.0\n",
       "29             10.5  121872.0"
      ]
     },
     "execution_count": 3,
     "metadata": {},
     "output_type": "execute_result"
    }
   ],
   "source": [
    "data.tail()"
   ]
  },
  {
   "cell_type": "code",
   "execution_count": 4,
   "metadata": {
    "ExecuteTime": {
     "end_time": "2021-12-14T06:41:30.929318Z",
     "start_time": "2021-12-14T06:41:30.830704Z"
    }
   },
   "outputs": [
    {
     "name": "stdout",
     "output_type": "stream",
     "text": [
      "<class 'pandas.core.frame.DataFrame'>\n",
      "RangeIndex: 30 entries, 0 to 29\n",
      "Data columns (total 2 columns):\n",
      "YearsExperience    30 non-null float64\n",
      "Salary             30 non-null float64\n",
      "dtypes: float64(2)\n",
      "memory usage: 608.0 bytes\n"
     ]
    }
   ],
   "source": [
    "data.info()"
   ]
  },
  {
   "cell_type": "code",
   "execution_count": 5,
   "metadata": {
    "ExecuteTime": {
     "end_time": "2021-12-14T06:41:31.055443Z",
     "start_time": "2021-12-14T06:41:30.934312Z"
    }
   },
   "outputs": [
    {
     "data": {
      "text/html": [
       "<div>\n",
       "<style scoped>\n",
       "    .dataframe tbody tr th:only-of-type {\n",
       "        vertical-align: middle;\n",
       "    }\n",
       "\n",
       "    .dataframe tbody tr th {\n",
       "        vertical-align: top;\n",
       "    }\n",
       "\n",
       "    .dataframe thead th {\n",
       "        text-align: right;\n",
       "    }\n",
       "</style>\n",
       "<table border=\"1\" class=\"dataframe\">\n",
       "  <thead>\n",
       "    <tr style=\"text-align: right;\">\n",
       "      <th></th>\n",
       "      <th>YearsExperience</th>\n",
       "      <th>Salary</th>\n",
       "    </tr>\n",
       "  </thead>\n",
       "  <tbody>\n",
       "    <tr>\n",
       "      <td>count</td>\n",
       "      <td>30.000000</td>\n",
       "      <td>30.000000</td>\n",
       "    </tr>\n",
       "    <tr>\n",
       "      <td>mean</td>\n",
       "      <td>5.313333</td>\n",
       "      <td>76003.000000</td>\n",
       "    </tr>\n",
       "    <tr>\n",
       "      <td>std</td>\n",
       "      <td>2.837888</td>\n",
       "      <td>27414.429785</td>\n",
       "    </tr>\n",
       "    <tr>\n",
       "      <td>min</td>\n",
       "      <td>1.100000</td>\n",
       "      <td>37731.000000</td>\n",
       "    </tr>\n",
       "    <tr>\n",
       "      <td>25%</td>\n",
       "      <td>3.200000</td>\n",
       "      <td>56720.750000</td>\n",
       "    </tr>\n",
       "    <tr>\n",
       "      <td>50%</td>\n",
       "      <td>4.700000</td>\n",
       "      <td>65237.000000</td>\n",
       "    </tr>\n",
       "    <tr>\n",
       "      <td>75%</td>\n",
       "      <td>7.700000</td>\n",
       "      <td>100544.750000</td>\n",
       "    </tr>\n",
       "    <tr>\n",
       "      <td>max</td>\n",
       "      <td>10.500000</td>\n",
       "      <td>122391.000000</td>\n",
       "    </tr>\n",
       "  </tbody>\n",
       "</table>\n",
       "</div>"
      ],
      "text/plain": [
       "       YearsExperience         Salary\n",
       "count        30.000000      30.000000\n",
       "mean          5.313333   76003.000000\n",
       "std           2.837888   27414.429785\n",
       "min           1.100000   37731.000000\n",
       "25%           3.200000   56720.750000\n",
       "50%           4.700000   65237.000000\n",
       "75%           7.700000  100544.750000\n",
       "max          10.500000  122391.000000"
      ]
     },
     "execution_count": 5,
     "metadata": {},
     "output_type": "execute_result"
    }
   ],
   "source": [
    "data.describe()"
   ]
  },
  {
   "cell_type": "markdown",
   "metadata": {},
   "source": [
    "### Data cleaning"
   ]
  },
  {
   "cell_type": "code",
   "execution_count": 6,
   "metadata": {
    "ExecuteTime": {
     "end_time": "2021-12-14T06:41:31.164558Z",
     "start_time": "2021-12-14T06:41:31.060433Z"
    }
   },
   "outputs": [],
   "source": [
    "# No Null values/ Incorerect values, hence no data cleaning is required"
   ]
  },
  {
   "cell_type": "markdown",
   "metadata": {},
   "source": [
    "### Outliers detection"
   ]
  },
  {
   "cell_type": "code",
   "execution_count": 7,
   "metadata": {
    "ExecuteTime": {
     "end_time": "2021-12-14T06:41:31.481214Z",
     "start_time": "2021-12-14T06:41:31.168095Z"
    }
   },
   "outputs": [
    {
     "data": {
      "text/plain": [
       "<matplotlib.axes._subplots.AxesSubplot at 0x1a09d4306c8>"
      ]
     },
     "execution_count": 7,
     "metadata": {},
     "output_type": "execute_result"
    },
    {
     "data": {
      "image/png": "[encoded data removed]",
      "text/plain": [
       "<Figure size 432x288 with 1 Axes>"
      ]
     },
     "metadata": {
      "needs_background": "light"
     },
     "output_type": "display_data"
    }
   ],
   "source": [
    "# Using box plot for YearsExperience\n",
    "sns.boxplot(data['YearsExperience'])"
   ]
  },
  {
   "cell_type": "code",
   "execution_count": 8,
   "metadata": {
    "ExecuteTime": {
     "end_time": "2021-12-14T06:41:31.702783Z",
     "start_time": "2021-12-14T06:41:31.488209Z"
    }
   },
   "outputs": [
    {
     "data": {
      "text/plain": [
       "<matplotlib.axes._subplots.AxesSubplot at 0x1a0a049d4c8>"
      ]
     },
     "execution_count": 8,
     "metadata": {},
     "output_type": "execute_result"
    },
    {
     "data": {
      "image/png": "[encoded data removed]",
      "text/plain": [
       "<Figure size 432x288 with 1 Axes>"
      ]
     },
     "metadata": {
      "needs_background": "light"
     },
     "output_type": "display_data"
    }
   ],
   "source": [
    "# Using box plot for Salary\n",
    "sns.boxplot(data['Salary'])"
   ]
  },
  {
   "cell_type": "markdown",
   "metadata": {},
   "source": [
    "### Checking if the variables are linearly related or not"
   ]
  },
  {
   "cell_type": "code",
   "execution_count": 9,
   "metadata": {
    "ExecuteTime": {
     "end_time": "2021-12-14T06:41:31.989162Z",
     "start_time": "2021-12-14T06:41:31.710784Z"
    }
   },
   "outputs": [
    {
     "data": {
      "text/plain": [
       "<matplotlib.axes._subplots.AxesSubplot at 0x1a0a0512f88>"
      ]
     },
     "execution_count": 9,
     "metadata": {},
     "output_type": "execute_result"
    },
    {
     "data": {
      "image/png": "[encoded data removed]",
      "text/plain": [
       "<Figure size 432x288 with 1 Axes>"
      ]
     },
     "metadata": {
      "needs_background": "light"
     },
     "output_type": "display_data"
    }
   ],
   "source": [
    "# Use scatter plot\n",
    "sns.scatterplot(x = data['YearsExperience'], y = data['Salary'])"
   ]
  },
  {
   "cell_type": "markdown",
   "metadata": {},
   "source": [
    "#### It shows that the varaibles are very linearly related(+ve) to each other, How much linear? what is the strength?"
   ]
  },
  {
   "cell_type": "code",
   "execution_count": 10,
   "metadata": {
    "ExecuteTime": {
     "end_time": "2021-12-14T06:41:32.021144Z",
     "start_time": "2021-12-14T06:41:31.994157Z"
    }
   },
   "outputs": [
    {
     "data": {
      "text/html": [
       "<div>\n",
       "<style scoped>\n",
       "    .dataframe tbody tr th:only-of-type {\n",
       "        vertical-align: middle;\n",
       "    }\n",
       "\n",
       "    .dataframe tbody tr th {\n",
       "        vertical-align: top;\n",
       "    }\n",
       "\n",
       "    .dataframe thead th {\n",
       "        text-align: right;\n",
       "    }\n",
       "</style>\n",
       "<table border=\"1\" class=\"dataframe\">\n",
       "  <thead>\n",
       "    <tr style=\"text-align: right;\">\n",
       "      <th></th>\n",
       "      <th>YearsExperience</th>\n",
       "      <th>Salary</th>\n",
       "    </tr>\n",
       "  </thead>\n",
       "  <tbody>\n",
       "    <tr>\n",
       "      <td>YearsExperience</td>\n",
       "      <td>1.000000</td>\n",
       "      <td>0.978242</td>\n",
       "    </tr>\n",
       "    <tr>\n",
       "      <td>Salary</td>\n",
       "      <td>0.978242</td>\n",
       "      <td>1.000000</td>\n",
       "    </tr>\n",
       "  </tbody>\n",
       "</table>\n",
       "</div>"
      ],
      "text/plain": [
       "                 YearsExperience    Salary\n",
       "YearsExperience         1.000000  0.978242\n",
       "Salary                  0.978242  1.000000"
      ]
     },
     "execution_count": 10,
     "metadata": {},
     "output_type": "execute_result"
    }
   ],
   "source": [
    "# Find out using the correlation\n",
    "data.corr()"
   ]
  },
  {
   "cell_type": "markdown",
   "metadata": {},
   "source": [
    "The correclation is around +0.98, The variables are very strongly correlated."
   ]
  },
  {
   "cell_type": "markdown",
   "metadata": {},
   "source": [
    "### Building the model"
   ]
  },
  {
   "cell_type": "markdown",
   "metadata": {},
   "source": [
    "##### - Only one independent variable(x) is given to predict the dependent variable(y). \n",
    "##### - Both the variables are linearly related and y is continuous in nature.\n",
    "##### - Hence use can the simple linear regression model"
   ]
  },
  {
   "cell_type": "code",
   "execution_count": 11,
   "metadata": {
    "ExecuteTime": {
     "end_time": "2021-12-14T06:41:32.290192Z",
     "start_time": "2021-12-14T06:41:32.027137Z"
    }
   },
   "outputs": [],
   "source": [
    "# Import the statsmodel library\n",
    "import statsmodels.formula.api as smf"
   ]
  },
  {
   "cell_type": "code",
   "execution_count": 12,
   "metadata": {
    "ExecuteTime": {
     "end_time": "2021-12-14T06:41:32.352542Z",
     "start_time": "2021-12-14T06:41:32.293198Z"
    }
   },
   "outputs": [],
   "source": [
    "# Use the OLS model\n",
    "model = smf.ols('Salary ~ YearsExperience', data=data)\n",
    "# Fit the model\n",
    "model_fit = model.fit()"
   ]
  },
  {
   "cell_type": "markdown",
   "metadata": {},
   "source": [
    "### Result:"
   ]
  },
  {
   "cell_type": "code",
   "execution_count": 13,
   "metadata": {
    "ExecuteTime": {
     "end_time": "2021-12-14T06:41:32.446884Z",
     "start_time": "2021-12-14T06:41:32.356506Z"
    }
   },
   "outputs": [
    {
     "data": {
      "text/html": [
       "<table class=\"simpletable\">\n",
       "<caption>OLS Regression Results</caption>\n",
       "<tr>\n",
       "  <th>Dep. Variable:</th>         <td>Salary</td>      <th>  R-squared:         </th> <td>   0.957</td>\n",
       "</tr>\n",
       "<tr>\n",
       "  <th>Model:</th>                   <td>OLS</td>       <th>  Adj. R-squared:    </th> <td>   0.955</td>\n",
       "</tr>\n",
       "<tr>\n",
       "  <th>Method:</th>             <td>Least Squares</td>  <th>  F-statistic:       </th> <td>   622.5</td>\n",
       "</tr>\n",
       "<tr>\n",
       "  <th>Date:</th>             <td>Tue, 14 Dec 2021</td> <th>  Prob (F-statistic):</th> <td>1.14e-20</td>\n",
       "</tr>\n",
       "<tr>\n",
       "  <th>Time:</th>                 <td>12:11:32</td>     <th>  Log-Likelihood:    </th> <td> -301.44</td>\n",
       "</tr>\n",
       "<tr>\n",
       "  <th>No. Observations:</th>      <td>    30</td>      <th>  AIC:               </th> <td>   606.9</td>\n",
       "</tr>\n",
       "<tr>\n",
       "  <th>Df Residuals:</th>          <td>    28</td>      <th>  BIC:               </th> <td>   609.7</td>\n",
       "</tr>\n",
       "<tr>\n",
       "  <th>Df Model:</th>              <td>     1</td>      <th>                     </th>     <td> </td>   \n",
       "</tr>\n",
       "<tr>\n",
       "  <th>Covariance Type:</th>      <td>nonrobust</td>    <th>                     </th>     <td> </td>   \n",
       "</tr>\n",
       "</table>\n",
       "<table class=\"simpletable\">\n",
       "<tr>\n",
       "         <td></td>            <th>coef</th>     <th>std err</th>      <th>t</th>      <th>P>|t|</th>  <th>[0.025</th>    <th>0.975]</th>  \n",
       "</tr>\n",
       "<tr>\n",
       "  <th>Intercept</th>       <td> 2.579e+04</td> <td> 2273.053</td> <td>   11.347</td> <td> 0.000</td> <td> 2.11e+04</td> <td> 3.04e+04</td>\n",
       "</tr>\n",
       "<tr>\n",
       "  <th>YearsExperience</th> <td> 9449.9623</td> <td>  378.755</td> <td>   24.950</td> <td> 0.000</td> <td> 8674.119</td> <td> 1.02e+04</td>\n",
       "</tr>\n",
       "</table>\n",
       "<table class=\"simpletable\">\n",
       "<tr>\n",
       "  <th>Omnibus:</th>       <td> 2.140</td> <th>  Durbin-Watson:     </th> <td>   1.648</td>\n",
       "</tr>\n",
       "<tr>\n",
       "  <th>Prob(Omnibus):</th> <td> 0.343</td> <th>  Jarque-Bera (JB):  </th> <td>   1.569</td>\n",
       "</tr>\n",
       "<tr>\n",
       "  <th>Skew:</th>          <td> 0.363</td> <th>  Prob(JB):          </th> <td>   0.456</td>\n",
       "</tr>\n",
       "<tr>\n",
       "  <th>Kurtosis:</th>      <td> 2.147</td> <th>  Cond. No.          </th> <td>    13.2</td>\n",
       "</tr>\n",
       "</table><br/><br/>Warnings:<br/>[1] Standard Errors assume that the covariance matrix of the errors is correctly specified."
      ],
      "text/plain": [
       "<class 'statsmodels.iolib.summary.Summary'>\n",
       "\"\"\"\n",
       "                            OLS Regression Results                            \n",
       "==============================================================================\n",
       "Dep. Variable:                 Salary   R-squared:                       0.957\n",
       "Model:                            OLS   Adj. R-squared:                  0.955\n",
       "Method:                 Least Squares   F-statistic:                     622.5\n",
       "Date:                Tue, 14 Dec 2021   Prob (F-statistic):           1.14e-20\n",
       "Time:                        12:11:32   Log-Likelihood:                -301.44\n",
       "No. Observations:                  30   AIC:                             606.9\n",
       "Df Residuals:                      28   BIC:                             609.7\n",
       "Df Model:                           1                                         \n",
       "Covariance Type:            nonrobust                                         \n",
       "===================================================================================\n",
       "                      coef    std err          t      P>|t|      [0.025      0.975]\n",
       "-----------------------------------------------------------------------------------\n",
       "Intercept        2.579e+04   2273.053     11.347      0.000    2.11e+04    3.04e+04\n",
       "YearsExperience  9449.9623    378.755     24.950      0.000    8674.119    1.02e+04\n",
       "==============================================================================\n",
       "Omnibus:                        2.140   Durbin-Watson:                   1.648\n",
       "Prob(Omnibus):                  0.343   Jarque-Bera (JB):                1.569\n",
       "Skew:                           0.363   Prob(JB):                        0.456\n",
       "Kurtosis:                       2.147   Cond. No.                         13.2\n",
       "==============================================================================\n",
       "\n",
       "Warnings:\n",
       "[1] Standard Errors assume that the covariance matrix of the errors is correctly specified.\n",
       "\"\"\""
      ]
     },
     "execution_count": 13,
     "metadata": {},
     "output_type": "execute_result"
    }
   ],
   "source": [
    "model_fit.summary()"
   ]
  },
  {
   "cell_type": "markdown",
   "metadata": {},
   "source": [
    "### Findings:"
   ]
  },
  {
   "cell_type": "markdown",
   "metadata": {},
   "source": [
    "##### - Here the r square value is 0.957. Which is very high, So the model is performing very well.\n",
    "##### - p-value < 0.05, (if we use the hypothesis concept here, we can accept the alternate hypothesis) We can conclude that the YearsExperience variable is a good predictor for Salary."
   ]
  },
  {
   "cell_type": "markdown",
   "metadata": {},
   "source": [
    "### Defining a best fit line based on the data we analyzed"
   ]
  },
  {
   "cell_type": "code",
   "execution_count": 14,
   "metadata": {
    "ExecuteTime": {
     "end_time": "2021-12-14T06:41:32.603108Z",
     "start_time": "2021-12-14T06:41:32.451879Z"
    }
   },
   "outputs": [
    {
     "data": {
      "text/plain": [
       "Intercept          25792.200199\n",
       "YearsExperience     9449.962321\n",
       "dtype: float64"
      ]
     },
     "execution_count": 14,
     "metadata": {},
     "output_type": "execute_result"
    }
   ],
   "source": [
    "# Check the model parameters(β0, β1)\n",
    "model_fit.params"
   ]
  },
  {
   "cell_type": "markdown",
   "metadata": {},
   "source": [
    "β0 = 25792.200199\n",
    "\n",
    "β1 = 9449.962321\n",
    "\n",
    "y = β0 + (β1 * x)\n",
    "\n",
    "Salary = 25792.200199 + (9449.962321 * YearsExperience), It is the best line of fit for the given data."
   ]
  },
  {
   "cell_type": "markdown",
   "metadata": {},
   "source": [
    "### Predicting the Delivery_Time using the model we built"
   ]
  },
  {
   "cell_type": "markdown",
   "metadata": {},
   "source": [
    "#### Predicting using new_data"
   ]
  },
  {
   "cell_type": "code",
   "execution_count": 15,
   "metadata": {
    "ExecuteTime": {
     "end_time": "2021-12-14T06:41:32.728463Z",
     "start_time": "2021-12-14T06:41:32.608079Z"
    }
   },
   "outputs": [
    {
     "data": {
      "text/html": [
       "<div>\n",
       "<style scoped>\n",
       "    .dataframe tbody tr th:only-of-type {\n",
       "        vertical-align: middle;\n",
       "    }\n",
       "\n",
       "    .dataframe tbody tr th {\n",
       "        vertical-align: top;\n",
       "    }\n",
       "\n",
       "    .dataframe thead th {\n",
       "        text-align: right;\n",
       "    }\n",
       "</style>\n",
       "<table border=\"1\" class=\"dataframe\">\n",
       "  <thead>\n",
       "    <tr style=\"text-align: right;\">\n",
       "      <th></th>\n",
       "      <th>YearsExperience</th>\n",
       "    </tr>\n",
       "  </thead>\n",
       "  <tbody>\n",
       "    <tr>\n",
       "      <td>0</td>\n",
       "      <td>5.2</td>\n",
       "    </tr>\n",
       "    <tr>\n",
       "      <td>1</td>\n",
       "      <td>2.3</td>\n",
       "    </tr>\n",
       "  </tbody>\n",
       "</table>\n",
       "</div>"
      ],
      "text/plain": [
       "   YearsExperience\n",
       "0              5.2\n",
       "1              2.3"
      ]
     },
     "execution_count": 15,
     "metadata": {},
     "output_type": "execute_result"
    }
   ],
   "source": [
    "# creating a series of yearsExperience with new values\n",
    "new_data = pd.Series((5.2,2.3))\n",
    "new_data\n",
    "# creating a DataFrame of new yearsExperience values\n",
    "data_pred = pd.DataFrame(new_data, columns=['YearsExperience'])\n",
    "data_pred"
   ]
  },
  {
   "cell_type": "markdown",
   "metadata": {},
   "source": [
    "##### Predictions:"
   ]
  },
  {
   "cell_type": "code",
   "execution_count": 16,
   "metadata": {
    "ExecuteTime": {
     "end_time": "2021-12-14T06:41:32.854403Z",
     "start_time": "2021-12-14T06:41:32.739449Z"
    }
   },
   "outputs": [
    {
     "data": {
      "text/plain": [
       "0    74932.004270\n",
       "1    47527.113538\n",
       "dtype: float64"
      ]
     },
     "execution_count": 16,
     "metadata": {},
     "output_type": "execute_result"
    }
   ],
   "source": [
    "#Prdicting the Salary using the new YearsExperience values\n",
    "pred = model_fit.predict(data_pred)\n",
    "pred"
   ]
  },
  {
   "cell_type": "markdown",
   "metadata": {
    "ExecuteTime": {
     "end_time": "2021-10-30T18:40:39.943962Z",
     "start_time": "2021-10-30T18:40:39.839032Z"
    }
   },
   "source": [
    "#### Predicting the Salary using the YearsExperience column(# Same trained data we are using)"
   ]
  },
  {
   "cell_type": "code",
   "execution_count": 17,
   "metadata": {
    "ExecuteTime": {
     "end_time": "2021-12-14T06:41:32.964137Z",
     "start_time": "2021-12-14T06:41:32.859394Z"
    }
   },
   "outputs": [
    {
     "data": {
      "text/plain": [
       "0      36187.158752\n",
       "1      38077.151217\n",
       "2      39967.143681\n",
       "3      44692.124842\n",
       "4      46582.117306\n",
       "5      53197.090931\n",
       "6      54142.087163\n",
       "7      56032.079627\n",
       "8      56032.079627\n",
       "9      60757.060788\n",
       "10     62647.053252\n",
       "11     63592.049484\n",
       "12     63592.049484\n",
       "13     64537.045717\n",
       "14     68317.030645\n",
       "15     72097.015574\n",
       "16     73987.008038\n",
       "17     75877.000502\n",
       "18     81546.977895\n",
       "19     82491.974127\n",
       "20     90051.943985\n",
       "21     92886.932681\n",
       "22    100446.902538\n",
       "23    103281.891235\n",
       "24    108006.872395\n",
       "25    110841.861092\n",
       "26    115566.842252\n",
       "27    116511.838485\n",
       "28    123126.812110\n",
       "29    125016.804574\n",
       "dtype: float64"
      ]
     },
     "execution_count": 17,
     "metadata": {},
     "output_type": "execute_result"
    }
   ],
   "source": [
    "pred1 = model_fit.predict(data.iloc[:,0])\n",
    "pred1"
   ]
  },
  {
   "cell_type": "markdown",
   "metadata": {},
   "source": [
    "### Checking the accuracy of predictons"
   ]
  },
  {
   "cell_type": "code",
   "execution_count": 18,
   "metadata": {
    "ExecuteTime": {
     "end_time": "2021-12-14T06:41:33.075153Z",
     "start_time": "2021-12-14T06:41:32.978135Z"
    }
   },
   "outputs": [
    {
     "name": "stdout",
     "output_type": "stream",
     "text": [
      "MSE1 = 31270951.722280968\n",
      "RMSE1 = 5592.043608760662\n"
     ]
    }
   ],
   "source": [
    "# Finding the accuracy/ how good you model is prdicting\n",
    "# Use RMSE(Root Mean Squared Error)\n",
    "mse1 = np.mean((np.array(data['Salary'])-np.array(pred1))**2)\n",
    "print('MSE1 =', mse1)\n",
    "rmse1 = np.sqrt(np.mean((np.array(data['Salary'])-np.array(pred1))**2))\n",
    "print('RMSE1 =', rmse1)"
   ]
  },
  {
   "cell_type": "markdown",
   "metadata": {},
   "source": [
    "##### RMSE is 5592.04, Less the RMSE value then more the accuracy is. \n",
    "##### So as per the final RMSE value, the model is able to predict the Salary with almost +/- 5592.04 varience using the given YearsExperience."
   ]
  },
  {
   "cell_type": "markdown",
   "metadata": {},
   "source": [
    "## Applying the transformations"
   ]
  },
  {
   "cell_type": "markdown",
   "metadata": {},
   "source": [
    "### Log Transformation"
   ]
  },
  {
   "cell_type": "code",
   "execution_count": 19,
   "metadata": {
    "ExecuteTime": {
     "end_time": "2021-12-14T06:41:33.437063Z",
     "start_time": "2021-12-14T06:41:33.079150Z"
    }
   },
   "outputs": [
    {
     "data": {
      "text/plain": [
       "<matplotlib.axes._subplots.AxesSubplot at 0x1a0a0b79348>"
      ]
     },
     "execution_count": 19,
     "metadata": {},
     "output_type": "execute_result"
    },
    {
     "data": {
      "image/png": "[encoded data removed]",
      "text/plain": [
       "<Figure size 432x288 with 1 Axes>"
      ]
     },
     "metadata": {
      "needs_background": "light"
     },
     "output_type": "display_data"
    }
   ],
   "source": [
    "# Model building on Transformed Data\n",
    "# x = log(YearsExperience); y = Salary\n",
    "sns.scatterplot(x = np.log(data['YearsExperience']), y = data['Salary'])"
   ]
  },
  {
   "cell_type": "code",
   "execution_count": 20,
   "metadata": {
    "ExecuteTime": {
     "end_time": "2021-12-14T06:41:33.484779Z",
     "start_time": "2021-12-14T06:41:33.443058Z"
    }
   },
   "outputs": [],
   "source": [
    "model2 = smf.ols('Salary ~ np.log(YearsExperience)', data= data)\n",
    "model_fit1 = model2.fit()"
   ]
  },
  {
   "cell_type": "code",
   "execution_count": 21,
   "metadata": {
    "ExecuteTime": {
     "end_time": "2021-12-14T06:41:33.610864Z",
     "start_time": "2021-12-14T06:41:33.487756Z"
    }
   },
   "outputs": [
    {
     "data": {
      "text/plain": [
       "Intercept                  14927.97177\n",
       "np.log(YearsExperience)    40581.98796\n",
       "dtype: float64"
      ]
     },
     "execution_count": 21,
     "metadata": {},
     "output_type": "execute_result"
    }
   ],
   "source": [
    "model_fit1.params"
   ]
  },
  {
   "cell_type": "code",
   "execution_count": 22,
   "metadata": {
    "ExecuteTime": {
     "end_time": "2021-12-14T06:41:33.737693Z",
     "start_time": "2021-12-14T06:41:33.617856Z"
    }
   },
   "outputs": [
    {
     "data": {
      "text/plain": [
       "0      18795.848339\n",
       "1      25575.235192\n",
       "2      31382.551905\n",
       "3      43057.262306\n",
       "4      46925.138875\n",
       "5      58136.050079\n",
       "6      59511.842441\n",
       "7      62130.943929\n",
       "8      62130.943929\n",
       "9      68022.718504\n",
       "10     70159.105863\n",
       "11     71186.552842\n",
       "12     71186.552842\n",
       "13     72188.628149\n",
       "14     75966.422577\n",
       "15     79422.295729\n",
       "16     81045.791737\n",
       "17     82606.829882\n",
       "18     86959.066704\n",
       "19     87641.132977\n",
       "20     92720.502137\n",
       "21     94472.514696\n",
       "22     98805.371390\n",
       "23    100317.918684\n",
       "24    102719.920751\n",
       "25    104095.713112\n",
       "26    106289.868435\n",
       "27    106714.814600\n",
       "28    109571.007247\n",
       "29    110351.454145\n",
       "dtype: float64"
      ]
     },
     "execution_count": 22,
     "metadata": {},
     "output_type": "execute_result"
    }
   ],
   "source": [
    "pred2 = model_fit1.predict(data.iloc[:,0])\n",
    "pred2"
   ]
  },
  {
   "cell_type": "markdown",
   "metadata": {},
   "source": [
    "#### Finding the accuracy/ how good you model is prdicting"
   ]
  },
  {
   "cell_type": "code",
   "execution_count": 23,
   "metadata": {
    "ExecuteTime": {
     "end_time": "2021-12-14T06:41:33.831228Z",
     "start_time": "2021-12-14T06:41:33.749683Z"
    }
   },
   "outputs": [
    {
     "name": "stdout",
     "output_type": "stream",
     "text": [
      "MSE2 = 106149618.72183882\n",
      "RMSE2 = 10302.893706228306\n"
     ]
    }
   ],
   "source": [
    "# Use RMSE(Root Mean Squared Error)\n",
    "mse2 = np.mean((np.array(data['Salary'])-np.array(pred2))**2)\n",
    "print('MSE2 =', mse2)\n",
    "rmse2 = np.sqrt(np.mean((np.array(data['Salary'])-np.array(pred2))**2))\n",
    "print('RMSE2 =', rmse2)"
   ]
  },
  {
   "cell_type": "markdown",
   "metadata": {},
   "source": [
    "### Exponential transformation"
   ]
  },
  {
   "cell_type": "code",
   "execution_count": 24,
   "metadata": {
    "ExecuteTime": {
     "end_time": "2021-12-14T06:41:34.228035Z",
     "start_time": "2021-12-14T06:41:33.839223Z"
    }
   },
   "outputs": [
    {
     "data": {
      "text/plain": [
       "<matplotlib.axes._subplots.AxesSubplot at 0x1a0a0bf3c48>"
      ]
     },
     "execution_count": 24,
     "metadata": {},
     "output_type": "execute_result"
    },
    {
     "data": {
      "image/png": "[encoded data removed]",
      "text/plain": [
       "<Figure size 432x288 with 1 Axes>"
      ]
     },
     "metadata": {
      "needs_background": "light"
     },
     "output_type": "display_data"
    }
   ],
   "source": [
    "# x = Sorting_Time; y = log(Delivery_Time)\n",
    "sns.scatterplot(x = data['YearsExperience'], y = np.log(data['Salary']))"
   ]
  },
  {
   "cell_type": "code",
   "execution_count": 25,
   "metadata": {
    "ExecuteTime": {
     "end_time": "2021-12-14T06:41:34.274935Z",
     "start_time": "2021-12-14T06:41:34.232034Z"
    }
   },
   "outputs": [
    {
     "data": {
      "text/plain": [
       "Intercept          10.507402\n",
       "YearsExperience     0.125453\n",
       "dtype: float64"
      ]
     },
     "execution_count": 25,
     "metadata": {},
     "output_type": "execute_result"
    }
   ],
   "source": [
    "model3  = smf.ols('np.log(Salary) ~ YearsExperience', data = data)\n",
    "model_fit3 = model3.fit()\n",
    "model_fit3.params"
   ]
  },
  {
   "cell_type": "code",
   "execution_count": 26,
   "metadata": {
    "ExecuteTime": {
     "end_time": "2021-12-14T06:41:34.416561Z",
     "start_time": "2021-12-14T06:41:34.279940Z"
    }
   },
   "outputs": [
    {
     "data": {
      "text/plain": [
       "0      41998.957468\n",
       "1      43066.066794\n",
       "2      44160.289228\n",
       "3      47019.029189\n",
       "4      48213.688474\n",
       "5      52639.142472\n",
       "6      53303.675386\n",
       "7      54658.014935\n",
       "8      54658.014935\n",
       "9      58196.330788\n",
       "10     59674.982903\n",
       "11     60428.338456\n",
       "12     60428.338456\n",
       "13     61191.204604\n",
       "14     64340.199291\n",
       "15     67651.246149\n",
       "16     69370.128712\n",
       "17     71132.684635\n",
       "18     76693.630780\n",
       "19     77661.835040\n",
       "20     85860.704208\n",
       "21     89153.725393\n",
       "22     98565.809591\n",
       "23    102346.110512\n",
       "24    108971.540758\n",
       "25    113150.933364\n",
       "26    120475.819601\n",
       "27    121996.743836\n",
       "28    133194.621344\n",
       "29    136578.829694\n",
       "dtype: float64"
      ]
     },
     "execution_count": 26,
     "metadata": {},
     "output_type": "execute_result"
    }
   ],
   "source": [
    "pred3 = model_fit3.predict(data.iloc[:,0])\n",
    "pred3_final = np.exp(pred3)\n",
    "pred3_final"
   ]
  },
  {
   "cell_type": "markdown",
   "metadata": {},
   "source": [
    "#### Finding the accuracy/ how good you model is prdicting"
   ]
  },
  {
   "cell_type": "code",
   "execution_count": 27,
   "metadata": {
    "ExecuteTime": {
     "end_time": "2021-12-14T06:41:34.541310Z",
     "start_time": "2021-12-14T06:41:34.425547Z"
    }
   },
   "outputs": [
    {
     "name": "stdout",
     "output_type": "stream",
     "text": [
      "MSE3 = 52030760.27058253\n",
      "RMSE3 = 7213.235076620096\n"
     ]
    }
   ],
   "source": [
    "# Use RMSE(Root Mean Squared Error)\n",
    "mse3 = np.mean((np.array(data['Salary'])-np.array(pred3_final))**2)\n",
    "print('MSE3 =', mse3)\n",
    "rmse3 = np.sqrt(np.mean((np.array(data['Salary'])-np.array(pred3_final))**2))\n",
    "print('RMSE3 =', rmse3)"
   ]
  },
  {
   "cell_type": "markdown",
   "metadata": {},
   "source": [
    "### Polynomial transformation"
   ]
  },
  {
   "cell_type": "code",
   "execution_count": 28,
   "metadata": {
    "ExecuteTime": {
     "end_time": "2021-12-14T06:41:34.699291Z",
     "start_time": "2021-12-14T06:41:34.553298Z"
    }
   },
   "outputs": [
    {
     "data": {
      "text/plain": [
       "Intercept                               10.336852\n",
       "YearsExperience                          0.202382\n",
       "I(YearsExperience * YearsExperience)    -0.006614\n",
       "dtype: float64"
      ]
     },
     "execution_count": 28,
     "metadata": {},
     "output_type": "execute_result"
    }
   ],
   "source": [
    "# x = YearsExperience; x^2 = YearsExperience*YearsExperience; y = log(Salary)\n",
    "model4 = smf.ols('np.log(Salary) ~ YearsExperience + I(YearsExperience*YearsExperience)', data = data)\n",
    "model_fit4 = model4.fit()\n",
    "model_fit4.params"
   ]
  },
  {
   "cell_type": "code",
   "execution_count": 29,
   "metadata": {
    "ExecuteTime": {
     "end_time": "2021-12-14T06:41:34.825067Z",
     "start_time": "2021-12-14T06:41:34.704289Z"
    }
   },
   "outputs": [
    {
     "data": {
      "text/plain": [
       "0      38233.559684\n",
       "1      39686.674746\n",
       "2      41173.227466\n",
       "3      45033.440973\n",
       "4      46633.832589\n",
       "5      52477.426306\n",
       "6      53341.747319\n",
       "7      55091.465477\n",
       "8      55091.465477\n",
       "9      59582.917523\n",
       "10     61423.509899\n",
       "11     62352.647026\n",
       "12     62352.647026\n",
       "13     63287.467325\n",
       "14     67080.231957\n",
       "15     70949.981000\n",
       "16     72909.896294\n",
       "17     74884.321575\n",
       "18     80877.084894\n",
       "19     81883.588147\n",
       "20     89970.445587\n",
       "21     93001.652359\n",
       "22    101003.996109\n",
       "23    103952.199275\n",
       "24    108770.218622\n",
       "25    111590.303652\n",
       "26    116146.198447\n",
       "27    117033.009807\n",
       "28    122976.902760\n",
       "29    124581.554019\n",
       "dtype: float64"
      ]
     },
     "execution_count": 29,
     "metadata": {},
     "output_type": "execute_result"
    }
   ],
   "source": [
    "pred4 = model_fit4.predict(data.iloc[:,0])\n",
    "pred4_final = np.exp(pred4)\n",
    "pred4_final"
   ]
  },
  {
   "cell_type": "code",
   "execution_count": 30,
   "metadata": {
    "ExecuteTime": {
     "end_time": "2021-12-14T06:41:36.081472Z",
     "start_time": "2021-12-14T06:41:34.827984Z"
    }
   },
   "outputs": [
    {
     "data": {
      "image/png": "[encoded data removed]",
      "text/plain": [
       "<Figure size 432x288 with 1 Axes>"
      ]
     },
     "metadata": {
      "needs_background": "light"
     },
     "output_type": "display_data"
    }
   ],
   "source": [
    "# Regression line\n",
    "from sklearn.preprocessing import PolynomialFeatures\n",
    "poly_reg = PolynomialFeatures(degree = 2)\n",
    "X = data.iloc[:,0:1].values\n",
    "X_poly = poly_reg.fit_transform(X)\n",
    "# y = data.iloc[:, 1].values\n",
    "\n",
    "plt.scatter(data.YearsExperience, np.log(data.Salary))\n",
    "plt.plot(X, pred4, color = 'red')\n",
    "plt.legend(['Predicted line', 'Observed data'])\n",
    "plt.show()"
   ]
  },
  {
   "cell_type": "markdown",
   "metadata": {},
   "source": [
    "#### Finding the accuracy/ how good you model is prdicting"
   ]
  },
  {
   "cell_type": "code",
   "execution_count": 31,
   "metadata": {
    "ExecuteTime": {
     "end_time": "2021-12-14T06:41:36.129440Z",
     "start_time": "2021-12-14T06:41:36.085467Z"
    }
   },
   "outputs": [
    {
     "name": "stdout",
     "output_type": "stream",
     "text": [
      "MSE4 = 29063760.63125823\n",
      "RMSE4 = 5391.08158269361\n"
     ]
    }
   ],
   "source": [
    "# Use RMSE(Root Mean Squared Error)\n",
    "mse4 = np.mean((np.array(data['Salary'])-np.array(pred4_final))**2)\n",
    "print('MSE4 =', mse4)\n",
    "rmse4 = np.sqrt(np.mean((np.array(data['Salary'])-np.array(pred4_final))**2))\n",
    "print('RMSE4 =', rmse4)"
   ]
  },
  {
   "cell_type": "markdown",
   "metadata": {},
   "source": [
    "### RMSE values of various transformation models"
   ]
  },
  {
   "cell_type": "code",
   "execution_count": 32,
   "metadata": {
    "ExecuteTime": {
     "end_time": "2021-12-14T06:41:36.320050Z",
     "start_time": "2021-12-14T06:41:36.134437Z"
    }
   },
   "outputs": [
    {
     "data": {
      "text/html": [
       "<div>\n",
       "<style scoped>\n",
       "    .dataframe tbody tr th:only-of-type {\n",
       "        vertical-align: middle;\n",
       "    }\n",
       "\n",
       "    .dataframe tbody tr th {\n",
       "        vertical-align: top;\n",
       "    }\n",
       "\n",
       "    .dataframe thead th {\n",
       "        text-align: right;\n",
       "    }\n",
       "</style>\n",
       "<table border=\"1\" class=\"dataframe\">\n",
       "  <thead>\n",
       "    <tr style=\"text-align: right;\">\n",
       "      <th></th>\n",
       "      <th>MODEL</th>\n",
       "      <th>RMSE</th>\n",
       "    </tr>\n",
       "  </thead>\n",
       "  <tbody>\n",
       "    <tr>\n",
       "      <td>0</td>\n",
       "      <td>SLR</td>\n",
       "      <td>5592.043609</td>\n",
       "    </tr>\n",
       "    <tr>\n",
       "      <td>1</td>\n",
       "      <td>Log model</td>\n",
       "      <td>10302.893706</td>\n",
       "    </tr>\n",
       "    <tr>\n",
       "      <td>2</td>\n",
       "      <td>Exp model</td>\n",
       "      <td>7213.235077</td>\n",
       "    </tr>\n",
       "    <tr>\n",
       "      <td>3</td>\n",
       "      <td>Poly model</td>\n",
       "      <td>5391.081583</td>\n",
       "    </tr>\n",
       "  </tbody>\n",
       "</table>\n",
       "</div>"
      ],
      "text/plain": [
       "        MODEL          RMSE\n",
       "0         SLR   5592.043609\n",
       "1   Log model  10302.893706\n",
       "2   Exp model   7213.235077\n",
       "3  Poly model   5391.081583"
      ]
     },
     "execution_count": 32,
     "metadata": {},
     "output_type": "execute_result"
    }
   ],
   "source": [
    "data = {\"MODEL\":pd.Series([\"SLR\", \"Log model\", \"Exp model\", \"Poly model\"]), \"RMSE\":pd.Series([rmse1, rmse2, rmse3, rmse4])}\n",
    "table_rmse = pd.DataFrame(data)\n",
    "table_rmse"
   ]
  },
  {
   "cell_type": "markdown",
   "metadata": {},
   "source": [
    "#### - Based on the above table we can conclude that the Ploy model has low RMSE value, Hence we can use the Poly model as our final model and make the predictions."
   ]
  }
 ],
 "metadata": {
  "kernelspec": {
   "display_name": "Python 3",
   "language": "python",
   "name": "python3"
  },
  "language_info": {
   "codemirror_mode": {
    "name": "ipython",
    "version": 3
   },
   "file_extension": ".py",
   "mimetype": "text/x-python",
   "name": "python",
   "nbconvert_exporter": "python",
   "pygments_lexer": "ipython3",
   "version": "3.7.4"
  },
  "varInspector": {
   "cols": {
    "lenName": 16,
    "lenType": 16,
    "lenVar": 40
   },
   "kernels_config": {
    "python": {
     "delete_cmd_postfix": "",
     "delete_cmd_prefix": "del ",
     "library": "var_list.py",
     "varRefreshCmd": "print(var_dic_list())"
    },
    "r": {
     "delete_cmd_postfix": ") ",
     "delete_cmd_prefix": "rm(",
     "library": "var_list.r",
     "varRefreshCmd": "cat(var_dic_list()) "
    }
   },
   "types_to_exclude": [
    "module",
    "function",
    "builtin_function_or_method",
    "instance",
    "_Feature"
   ],
   "window_display": false
  }
 },
 "nbformat": 4,
 "nbformat_minor": 2
}
